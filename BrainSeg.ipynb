{
 "cells": [
  {
   "cell_type": "code",
   "execution_count": 1,
   "id": "1cd5fa43-9cb3-483c-8c1e-d0b478b33fb3",
   "metadata": {},
   "outputs": [],
   "source": [
    "import nibabel as nib\n",
    "import torch\n",
    "import pandas as pd\n",
    "import numpy as np\n",
    "import tensorflow as tf\n",
    "import os\n",
    "from tqdm import tqdm\n",
    "from glob import glob\n",
    "import gc\n",
    "import cv2\n",
    "import matplotlib.pyplot as plt\n",
    "import albumentations as albu\n",
    "from PIL import Image\n",
    "from sklearn.utils import shuffle\n",
    "import math\n",
    "import zipfile\n",
    "%matplotlib inline"
   ]
  },
  {
   "cell_type": "code",
   "execution_count": 7,
   "id": "1bf617e5-0b6c-4076-83c7-d309c84e66b1",
   "metadata": {},
   "outputs": [],
   "source": [
    "train_csv = pd.read_csv('./Train/name_mapping.csv')\n",
    "val_csv = pd.read_csv('./Val/name_mapping_validation_data.csv')"
   ]
  },
  {
   "cell_type": "code",
   "execution_count": 8,
   "id": "f8542171-151b-4d78-a513-2488e6285394",
   "metadata": {},
   "outputs": [
    {
     "data": {
      "text/html": [
       "<div>\n",
       "<style scoped>\n",
       "    .dataframe tbody tr th:only-of-type {\n",
       "        vertical-align: middle;\n",
       "    }\n",
       "\n",
       "    .dataframe tbody tr th {\n",
       "        vertical-align: top;\n",
       "    }\n",
       "\n",
       "    .dataframe thead th {\n",
       "        text-align: right;\n",
       "    }\n",
       "</style>\n",
       "<table border=\"1\" class=\"dataframe\">\n",
       "  <thead>\n",
       "    <tr style=\"text-align: right;\">\n",
       "      <th></th>\n",
       "      <th>BraTS_2020_subject_ID</th>\n",
       "    </tr>\n",
       "  </thead>\n",
       "  <tbody>\n",
       "    <tr>\n",
       "      <th>0</th>\n",
       "      <td>BraTS20_Training_001</td>\n",
       "    </tr>\n",
       "    <tr>\n",
       "      <th>1</th>\n",
       "      <td>BraTS20_Training_002</td>\n",
       "    </tr>\n",
       "    <tr>\n",
       "      <th>2</th>\n",
       "      <td>BraTS20_Training_003</td>\n",
       "    </tr>\n",
       "    <tr>\n",
       "      <th>3</th>\n",
       "      <td>BraTS20_Training_004</td>\n",
       "    </tr>\n",
       "    <tr>\n",
       "      <th>4</th>\n",
       "      <td>BraTS20_Training_005</td>\n",
       "    </tr>\n",
       "  </tbody>\n",
       "</table>\n",
       "</div>"
      ],
      "text/plain": [
       "  BraTS_2020_subject_ID\n",
       "0  BraTS20_Training_001\n",
       "1  BraTS20_Training_002\n",
       "2  BraTS20_Training_003\n",
       "3  BraTS20_Training_004\n",
       "4  BraTS20_Training_005"
      ]
     },
     "execution_count": 8,
     "metadata": {},
     "output_type": "execute_result"
    }
   ],
   "source": [
    "train_csv.head()"
   ]
  },
  {
   "cell_type": "code",
   "execution_count": 9,
   "id": "366b8b17-b43e-4369-8821-3788999e0f7b",
   "metadata": {},
   "outputs": [
    {
     "data": {
      "text/html": [
       "<div>\n",
       "<style scoped>\n",
       "    .dataframe tbody tr th:only-of-type {\n",
       "        vertical-align: middle;\n",
       "    }\n",
       "\n",
       "    .dataframe tbody tr th {\n",
       "        vertical-align: top;\n",
       "    }\n",
       "\n",
       "    .dataframe thead th {\n",
       "        text-align: right;\n",
       "    }\n",
       "</style>\n",
       "<table border=\"1\" class=\"dataframe\">\n",
       "  <thead>\n",
       "    <tr style=\"text-align: right;\">\n",
       "      <th></th>\n",
       "      <th>BraTS_2020_subject_ID</th>\n",
       "    </tr>\n",
       "  </thead>\n",
       "  <tbody>\n",
       "    <tr>\n",
       "      <th>0</th>\n",
       "      <td>BraTS20_Validation_001</td>\n",
       "    </tr>\n",
       "    <tr>\n",
       "      <th>1</th>\n",
       "      <td>BraTS20_Validation_002</td>\n",
       "    </tr>\n",
       "    <tr>\n",
       "      <th>2</th>\n",
       "      <td>BraTS20_Validation_003</td>\n",
       "    </tr>\n",
       "    <tr>\n",
       "      <th>3</th>\n",
       "      <td>BraTS20_Validation_004</td>\n",
       "    </tr>\n",
       "    <tr>\n",
       "      <th>4</th>\n",
       "      <td>BraTS20_Validation_005</td>\n",
       "    </tr>\n",
       "  </tbody>\n",
       "</table>\n",
       "</div>"
      ],
      "text/plain": [
       "    BraTS_2020_subject_ID\n",
       "0  BraTS20_Validation_001\n",
       "1  BraTS20_Validation_002\n",
       "2  BraTS20_Validation_003\n",
       "3  BraTS20_Validation_004\n",
       "4  BraTS20_Validation_005"
      ]
     },
     "execution_count": 9,
     "metadata": {},
     "output_type": "execute_result"
    }
   ],
   "source": [
    "val_csv.head()"
   ]
  },
  {
   "cell_type": "code",
   "execution_count": 19,
   "id": "56c280bb-b39a-4762-b81f-aeeff949b4a6",
   "metadata": {},
   "outputs": [],
   "source": [
    "train_data= './Train/'+train_csv['BraTS_2020_subject_ID']+'/'+train_csv['BraTS_2020_subject_ID']+'_flair.nii.gz'\n",
    "train_label= './Train/'+train_csv['BraTS_2020_subject_ID']+train_csv['BraTS_2020_subject_ID']+'_seg.nii.gz'\n",
    "val_data= './Train/'+val_csv['BraTS_2020_subject_ID']+'/'+val_csv['BraTS_2020_subject_ID']+'_flair.nii.gz'\n",
    "val_label= './Train/'+val_csv['BraTS_2020_subject_ID']+val_csv['BraTS_2020_subject_ID']+'_seg.nii.gz'"
   ]
  },
  {
   "cell_type": "code",
   "execution_count": null,
   "id": "979b8c40-aad3-4888-aede-c13a8a2e3b27",
   "metadata": {},
   "outputs": [],
   "source": [
    "class MyDataset(torch.utils.data.Dataset):\n",
    "    def __init__(self, x_dir, y_dir,augmentation=True):\n",
    "        super().__init__()\n",
    "        \n",
    "        self.augmentation = augmentation\n",
    "        self.x_img = x_dir\n",
    "        self.y_img = y_dir   \n",
    "\n",
    "    def __len__(self):\n",
    "        return len(self.x_img)\n",
    "\n",
    "    def __getitem__(self, idx):\n",
    "        x_img = self.x_img[idx]\n",
    "        y_img = self.y_img[idx]\n",
    "        # Read an image with OpenCV\n",
    "        x_img = dcm.read_file(x_img)\n",
    "        y_img =  imread(y_img)\n",
    "\n",
    "        x_img=read_dicom(x_img,400,100)\n",
    "        x_img=np.transpose(x_img,(2,0,1))\n",
    "        x_img=x_img.astype(np.float32)\n",
    "\n",
    "        y_img = resize(y_img, (512, 512))*255\n",
    "        color_im = np.zeros([512, 512, 2])\n",
    "        for i in range(1,3):\n",
    "            encode_ = to_binary(y_img, i*1.0, i*1.0) * 255\n",
    "            color_im[:, :, i-1] = encode_\n",
    "        color_im = np.transpose(color_im,(2,0,1))\n",
    "        # Data Augmentation\n",
    "        if self.augmentation:\n",
    "            img, mask = augment_imgs_and_masks(x_img, color_im, rot_factor, scale_factor, trans_factor, flip)\n",
    "\n",
    "        return img, mask,y_img\n"
   ]
  },
  {
   "cell_type": "code",
   "execution_count": null,
   "id": "faa9b755-7dac-48ca-924a-a09017f20f84",
   "metadata": {},
   "outputs": [],
   "source": []
  }
 ],
 "metadata": {
  "kernelspec": {
   "display_name": "Python 3 (ipykernel)",
   "language": "python",
   "name": "python3"
  },
  "language_info": {
   "codemirror_mode": {
    "name": "ipython",
    "version": 3
   },
   "file_extension": ".py",
   "mimetype": "text/x-python",
   "name": "python",
   "nbconvert_exporter": "python",
   "pygments_lexer": "ipython3",
   "version": "3.8.8"
  }
 },
 "nbformat": 4,
 "nbformat_minor": 5
}
